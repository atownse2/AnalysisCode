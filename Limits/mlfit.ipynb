{
 "cells": [
  {
   "cell_type": "code",
   "execution_count": 110,
   "metadata": {},
   "outputs": [],
   "source": [
    "from ROOT import TFile\n",
    "from ROOT import gDirectory\n",
    "from ROOT import TCanvas\n",
    "from ROOT import TGraphErrors\n",
    "from ROOT import TMultiGraph\n",
    "from ROOT import TLegend"
   ]
  },
  {
   "cell_type": "code",
   "execution_count": 111,
   "metadata": {},
   "outputs": [
    {
     "name": "stdout",
     "output_type": "stream",
     "text": [
      "TFile**\t\tmlfit.root\t\n",
      " TFile*\t\tmlfit.root\t\n",
      "  KEY: RooFitResult\tnuisances_prefit_res;1\t\n",
      "  KEY: TProcessID\tProcessID0;1\t195309dc-acfd-11e8-9717-66358a89beef\n",
      "  KEY: RooArgSet\tnuisances_prefit;1\tSet of RooAbsArg objects\n",
      "  KEY: TDirectoryFile\tshapes_prefit;1\tshapes_prefit\n",
      "  KEY: RooArgSet\tnorm_prefit;1\tSet of RooAbsArg objects\n",
      "  KEY: RooFitResult\tfit_b;1\t\n",
      "  KEY: TDirectoryFile\tshapes_fit_b;1\tshapes_fit_b\n",
      "  KEY: RooArgSet\tnorm_fit_b;1\tSet of RooAbsArg objects\n",
      "  KEY: RooFitResult\tfit_s;1\t\n",
      "  KEY: TDirectoryFile\tshapes_fit_s;1\tshapes_fit_s\n",
      "  KEY: RooArgSet\tnorm_fit_s;1\tSet of RooAbsArg objects\n",
      "  KEY: TTree\ttree_fit_sb;1\ttree_fit_sb\n",
      "  KEY: TTree\ttree_fit_b;1\ttree_fit_b\n"
     ]
    }
   ],
   "source": [
    "mlfit = TFile('mlfit.root', 'READ')\n",
    "mlfit.ls()"
   ]
  },
  {
   "cell_type": "code",
   "execution_count": 149,
   "metadata": {},
   "outputs": [],
   "source": [
    "prefit_hists = {'total_background':[], 'ewk':[], 'qcd':[], 'zgg':[]}\n",
    "postfit_hists = {'total_background':[], 'ewk':[], 'qcd':[], 'zgg':[]}\n",
    "\n",
    "for i in [1,2,3,4,5,6]:\n",
    "\n",
    "    mlfit.cd('shapes_prefit/ch1_bin'+str(i))\n",
    "\n",
    "    prefit_hists['total_background'].append(gDirectory.Get('total_background;1'))\n",
    "    prefit_hists['ewk'].append(gDirectory.Get('ewk;1'))\n",
    "    prefit_hists['qcd'].append(gDirectory.Get('qcd;1'))\n",
    "    prefit_hists['zgg'].append(gDirectory.Get('zgg;1'))\n",
    "    \n",
    "    mlfit.cd('shapes_fit_b/ch1_bin'+str(i))\n",
    "    \n",
    "    postfit_hists['total_background'].append(gDirectory.Get('total_background;1'))\n",
    "    postfit_hists['ewk'].append(gDirectory.Get('ewk;1'))\n",
    "    postfit_hists['qcd'].append(gDirectory.Get('qcd;1'))\n",
    "    postfit_hists['zgg'].append(gDirectory.Get('zgg;1'))\n"
   ]
  },
  {
   "cell_type": "code",
   "execution_count": 150,
   "metadata": {},
   "outputs": [
    {
     "data": {
      "image/png": "[encoded data removed]",
      "text/plain": [
       "<IPython.core.display.Image object>"
      ]
     },
     "metadata": {},
     "output_type": "display_data"
    }
   ],
   "source": [
    "from array import array\n",
    "\n",
    "channel = 'total_background'\n",
    "#channel = 'ewk'\n",
    "#channel = 'qcd'\n",
    "#channel = 'zgg'\n",
    "\n",
    "X = array('f')\n",
    "Xerr = array('f')\n",
    "\n",
    "Ypre = array('f')\n",
    "Ypre_err = array('f')\n",
    "\n",
    "Ypost = array('f')\n",
    "Ypost_err = array('f')\n",
    "\n",
    "for i in range(0,6):\n",
    "    \n",
    "    X.append(i+1)\n",
    "    Xerr.append(0.5)\n",
    "    \n",
    "    hpre = prefit_hists[channel][i]\n",
    "    \n",
    "    Ypre.append(hpre.GetBinContent(1))\n",
    "    Ypre_err.append(hpre.GetBinError(1))\n",
    "\n",
    "    hpost = postfit_hists[channel][i]\n",
    "    \n",
    "    Ypost.append(hpost.GetBinContent(1))\n",
    "    Ypost_err.append(hpost.GetBinError(1))\n",
    "    \n",
    "    \n",
    "c1 = TCanvas()    \n",
    "\n",
    "gr_pre = TGraphErrors(6, X, Ypre, Xerr, Ypre_err)\n",
    "gr_pre.SetMarkerColor(4)\n",
    "gr_pre.SetMarkerStyle(21)\n",
    "gr_pre.SetLineColor(4)\n",
    "\n",
    "gr_post = TGraphErrors(6, X, Ypost, Xerr, Ypost_err)\n",
    "gr_post.SetMarkerColor(2)\n",
    "gr_post.SetMarkerStyle(21)\n",
    "gr_post.SetLineColor(2)\n",
    "\n",
    "mg = TMultiGraph()\n",
    "mg.Add(gr_pre, 'p')\n",
    "mg.Add(gr_post, 'p')\n",
    "\n",
    "mg.SetTitle(channel)\n",
    "mg.SetTitle(channel+';bin')\n",
    "\n",
    "leg = TLegend(0.7, 0.7, 0.9, 0.9) \n",
    "leg.SetFillColor(0) \n",
    "leg.AddEntry(gr_pre, 'prefit', 'p')\n",
    "leg.AddEntry(gr_post, 'postfit', 'p')\n",
    "\n",
    "mg.Draw('a')\n",
    "leg.Draw()\n",
    "\n",
    "c1.Draw()\n"
   ]
  },
  {
   "cell_type": "code",
   "execution_count": 151,
   "metadata": {},
   "outputs": [
    {
     "data": {
      "image/png": "[encoded data removed]",
      "text/plain": [
       "<IPython.core.display.Image object>"
      ]
     },
     "metadata": {},
     "output_type": "display_data"
    }
   ],
   "source": [
    "mlfit.cd('shapes_prefit')\n",
    "total_pre = gDirectory.Get('total_background')\n",
    "total_pre.SetLineColor(4)\n",
    "\n",
    "mlfit.cd('shapes_fit_b')\n",
    "total_post = gDirectory.Get('total_background')\n",
    "total_post.SetLineColor(2)\n",
    "\n",
    "c2 = TCanvas()    \n",
    "\n",
    "total_pre.Draw()\n",
    "total_post.Draw('same')\n",
    "\n",
    "leg = TLegend(0.7, 0.7, 0.9, 0.9) \n",
    "leg.SetFillColor(0) \n",
    "leg.AddEntry(total_pre, 'prefit', 'l')\n",
    "leg.AddEntry(total_post, 'postfit', 'l')\n",
    "\n",
    "leg.Draw()\n",
    "\n",
    "c2.Draw()\n"
   ]
  },
  {
   "cell_type": "code",
   "execution_count": null,
   "metadata": {},
   "outputs": [],
   "source": []
  }
 ],
 "metadata": {
  "kernelspec": {
   "display_name": "Python 2",
   "language": "python",
   "name": "python2"
  },
  "language_info": {
   "codemirror_mode": {
    "name": "ipython",
    "version": 2
   },
   "file_extension": ".py",
   "mimetype": "text/x-python",
   "name": "python",
   "nbconvert_exporter": "python",
   "pygments_lexer": "ipython2",
   "version": "2.7.15"
  }
 },
 "nbformat": 4,
 "nbformat_minor": 2
}
